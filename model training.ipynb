{
 "cells": [
  {
   "cell_type": "code",
   "execution_count": 39,
   "id": "d1dde591",
   "metadata": {},
   "outputs": [],
   "source": [
    "import pandas as pd "
   ]
  },
  {
   "cell_type": "code",
   "execution_count": 40,
   "id": "abdce324",
   "metadata": {},
   "outputs": [],
   "source": [
    "df = pd.read_csv(\"spotify_millsongdata.csv\")\n",
    "\n"
   ]
  },
  {
   "cell_type": "code",
   "execution_count": 41,
   "id": "5c511213",
   "metadata": {},
   "outputs": [
    {
     "data": {
      "text/html": [
       "<div>\n",
       "<style scoped>\n",
       "    .dataframe tbody tr th:only-of-type {\n",
       "        vertical-align: middle;\n",
       "    }\n",
       "\n",
       "    .dataframe tbody tr th {\n",
       "        vertical-align: top;\n",
       "    }\n",
       "\n",
       "    .dataframe thead th {\n",
       "        text-align: right;\n",
       "    }\n",
       "</style>\n",
       "<table border=\"1\" class=\"dataframe\">\n",
       "  <thead>\n",
       "    <tr style=\"text-align: right;\">\n",
       "      <th></th>\n",
       "      <th>artist</th>\n",
       "      <th>song</th>\n",
       "      <th>link</th>\n",
       "      <th>text</th>\n",
       "    </tr>\n",
       "  </thead>\n",
       "  <tbody>\n",
       "    <tr>\n",
       "      <th>0</th>\n",
       "      <td>ABBA</td>\n",
       "      <td>Ahe's My Kind Of Girl</td>\n",
       "      <td>/a/abba/ahes+my+kind+of+girl_20598417.html</td>\n",
       "      <td>Look at her face, it's a wonderful face  \\r\\nA...</td>\n",
       "    </tr>\n",
       "    <tr>\n",
       "      <th>1</th>\n",
       "      <td>ABBA</td>\n",
       "      <td>Andante, Andante</td>\n",
       "      <td>/a/abba/andante+andante_20002708.html</td>\n",
       "      <td>Take it easy with me, please  \\r\\nTouch me gen...</td>\n",
       "    </tr>\n",
       "    <tr>\n",
       "      <th>2</th>\n",
       "      <td>ABBA</td>\n",
       "      <td>As Good As New</td>\n",
       "      <td>/a/abba/as+good+as+new_20003033.html</td>\n",
       "      <td>I'll never know why I had to go  \\r\\nWhy I had...</td>\n",
       "    </tr>\n",
       "    <tr>\n",
       "      <th>3</th>\n",
       "      <td>ABBA</td>\n",
       "      <td>Bang</td>\n",
       "      <td>/a/abba/bang_20598415.html</td>\n",
       "      <td>Making somebody happy is a question of give an...</td>\n",
       "    </tr>\n",
       "    <tr>\n",
       "      <th>4</th>\n",
       "      <td>ABBA</td>\n",
       "      <td>Bang-A-Boomerang</td>\n",
       "      <td>/a/abba/bang+a+boomerang_20002668.html</td>\n",
       "      <td>Making somebody happy is a question of give an...</td>\n",
       "    </tr>\n",
       "    <tr>\n",
       "      <th>5</th>\n",
       "      <td>ABBA</td>\n",
       "      <td>Burning My Bridges</td>\n",
       "      <td>/a/abba/burning+my+bridges_20003011.html</td>\n",
       "      <td>Well, you hoot and you holler and you make me ...</td>\n",
       "    </tr>\n",
       "    <tr>\n",
       "      <th>6</th>\n",
       "      <td>ABBA</td>\n",
       "      <td>Cassandra</td>\n",
       "      <td>/a/abba/cassandra_20002811.html</td>\n",
       "      <td>Down in the street they're all singing and sho...</td>\n",
       "    </tr>\n",
       "  </tbody>\n",
       "</table>\n",
       "</div>"
      ],
      "text/plain": [
       "  artist                   song                                        link  \\\n",
       "0   ABBA  Ahe's My Kind Of Girl  /a/abba/ahes+my+kind+of+girl_20598417.html   \n",
       "1   ABBA       Andante, Andante       /a/abba/andante+andante_20002708.html   \n",
       "2   ABBA         As Good As New        /a/abba/as+good+as+new_20003033.html   \n",
       "3   ABBA                   Bang                  /a/abba/bang_20598415.html   \n",
       "4   ABBA       Bang-A-Boomerang      /a/abba/bang+a+boomerang_20002668.html   \n",
       "5   ABBA     Burning My Bridges    /a/abba/burning+my+bridges_20003011.html   \n",
       "6   ABBA              Cassandra             /a/abba/cassandra_20002811.html   \n",
       "\n",
       "                                                text  \n",
       "0  Look at her face, it's a wonderful face  \\r\\nA...  \n",
       "1  Take it easy with me, please  \\r\\nTouch me gen...  \n",
       "2  I'll never know why I had to go  \\r\\nWhy I had...  \n",
       "3  Making somebody happy is a question of give an...  \n",
       "4  Making somebody happy is a question of give an...  \n",
       "5  Well, you hoot and you holler and you make me ...  \n",
       "6  Down in the street they're all singing and sho...  "
      ]
     },
     "execution_count": 41,
     "metadata": {},
     "output_type": "execute_result"
    }
   ],
   "source": [
    "df.head(7)"
   ]
  },
  {
   "cell_type": "code",
   "execution_count": 42,
   "id": "58caa8e1",
   "metadata": {},
   "outputs": [
    {
     "data": {
      "text/html": [
       "<div>\n",
       "<style scoped>\n",
       "    .dataframe tbody tr th:only-of-type {\n",
       "        vertical-align: middle;\n",
       "    }\n",
       "\n",
       "    .dataframe tbody tr th {\n",
       "        vertical-align: top;\n",
       "    }\n",
       "\n",
       "    .dataframe thead th {\n",
       "        text-align: right;\n",
       "    }\n",
       "</style>\n",
       "<table border=\"1\" class=\"dataframe\">\n",
       "  <thead>\n",
       "    <tr style=\"text-align: right;\">\n",
       "      <th></th>\n",
       "      <th>artist</th>\n",
       "      <th>song</th>\n",
       "      <th>link</th>\n",
       "      <th>text</th>\n",
       "    </tr>\n",
       "  </thead>\n",
       "  <tbody>\n",
       "    <tr>\n",
       "      <th>57645</th>\n",
       "      <td>Ziggy Marley</td>\n",
       "      <td>Good Old Days</td>\n",
       "      <td>/z/ziggy+marley/good+old+days_10198588.html</td>\n",
       "      <td>Irie days come on play  \\r\\nLet the angels fly...</td>\n",
       "    </tr>\n",
       "    <tr>\n",
       "      <th>57646</th>\n",
       "      <td>Ziggy Marley</td>\n",
       "      <td>Hand To Mouth</td>\n",
       "      <td>/z/ziggy+marley/hand+to+mouth_20531167.html</td>\n",
       "      <td>Power to the workers  \\r\\nMore power  \\r\\nPowe...</td>\n",
       "    </tr>\n",
       "    <tr>\n",
       "      <th>57647</th>\n",
       "      <td>Zwan</td>\n",
       "      <td>Come With Me</td>\n",
       "      <td>/z/zwan/come+with+me_20148981.html</td>\n",
       "      <td>all you need  \\r\\nis something i'll believe  \\...</td>\n",
       "    </tr>\n",
       "    <tr>\n",
       "      <th>57648</th>\n",
       "      <td>Zwan</td>\n",
       "      <td>Desire</td>\n",
       "      <td>/z/zwan/desire_20148986.html</td>\n",
       "      <td>northern star  \\r\\nam i frightened  \\r\\nwhere ...</td>\n",
       "    </tr>\n",
       "    <tr>\n",
       "      <th>57649</th>\n",
       "      <td>Zwan</td>\n",
       "      <td>Heartsong</td>\n",
       "      <td>/z/zwan/heartsong_20148991.html</td>\n",
       "      <td>come in  \\r\\nmake yourself at home  \\r\\ni'm a ...</td>\n",
       "    </tr>\n",
       "  </tbody>\n",
       "</table>\n",
       "</div>"
      ],
      "text/plain": [
       "             artist           song  \\\n",
       "57645  Ziggy Marley  Good Old Days   \n",
       "57646  Ziggy Marley  Hand To Mouth   \n",
       "57647          Zwan   Come With Me   \n",
       "57648          Zwan         Desire   \n",
       "57649          Zwan      Heartsong   \n",
       "\n",
       "                                              link  \\\n",
       "57645  /z/ziggy+marley/good+old+days_10198588.html   \n",
       "57646  /z/ziggy+marley/hand+to+mouth_20531167.html   \n",
       "57647           /z/zwan/come+with+me_20148981.html   \n",
       "57648                 /z/zwan/desire_20148986.html   \n",
       "57649              /z/zwan/heartsong_20148991.html   \n",
       "\n",
       "                                                    text  \n",
       "57645  Irie days come on play  \\r\\nLet the angels fly...  \n",
       "57646  Power to the workers  \\r\\nMore power  \\r\\nPowe...  \n",
       "57647  all you need  \\r\\nis something i'll believe  \\...  \n",
       "57648  northern star  \\r\\nam i frightened  \\r\\nwhere ...  \n",
       "57649  come in  \\r\\nmake yourself at home  \\r\\ni'm a ...  "
      ]
     },
     "execution_count": 42,
     "metadata": {},
     "output_type": "execute_result"
    }
   ],
   "source": [
    "df.tail(5)"
   ]
  },
  {
   "cell_type": "code",
   "execution_count": 72,
   "id": "ca8f8284",
   "metadata": {},
   "outputs": [
    {
     "data": {
      "text/plain": [
       "(5000, 3)"
      ]
     },
     "execution_count": 72,
     "metadata": {},
     "output_type": "execute_result"
    }
   ],
   "source": [
    "df.shape"
   ]
  },
  {
   "cell_type": "code",
   "execution_count": 44,
   "id": "feafee81",
   "metadata": {},
   "outputs": [
    {
     "data": {
      "text/plain": [
       "(57650, 4)"
      ]
     },
     "execution_count": 44,
     "metadata": {},
     "output_type": "execute_result"
    }
   ],
   "source": [
    "df.shape"
   ]
  },
  {
   "cell_type": "code",
   "execution_count": 45,
   "id": "36128f4a",
   "metadata": {},
   "outputs": [],
   "source": [
    "df = df.sample(5000).drop('link',axis=1).reset_index(drop=True) # axis=1 says that link is the column just like index, reset_index() is called to reset the index of the DataFrame, the old index is discarded  Instead, a new sequential index starting from 0 is created.\n"
   ]
  },
  {
   "cell_type": "code",
   "execution_count": 70,
   "id": "788495d1",
   "metadata": {},
   "outputs": [
    {
     "data": {
      "text/html": [
       "<div>\n",
       "<style scoped>\n",
       "    .dataframe tbody tr th:only-of-type {\n",
       "        vertical-align: middle;\n",
       "    }\n",
       "\n",
       "    .dataframe tbody tr th {\n",
       "        vertical-align: top;\n",
       "    }\n",
       "\n",
       "    .dataframe thead th {\n",
       "        text-align: right;\n",
       "    }\n",
       "</style>\n",
       "<table border=\"1\" class=\"dataframe\">\n",
       "  <thead>\n",
       "    <tr style=\"text-align: right;\">\n",
       "      <th></th>\n",
       "      <th>artist</th>\n",
       "      <th>song</th>\n",
       "      <th>text</th>\n",
       "    </tr>\n",
       "  </thead>\n",
       "  <tbody>\n",
       "    <tr>\n",
       "      <th>0</th>\n",
       "      <td>Clash</td>\n",
       "      <td>Stop The World</td>\n",
       "      <td>the panorama of the city is wrong  \\r in fact ...</td>\n",
       "    </tr>\n",
       "    <tr>\n",
       "      <th>1</th>\n",
       "      <td>Marillion</td>\n",
       "      <td>The Great Escape</td>\n",
       "      <td>heading for the great escape  \\r heading for t...</td>\n",
       "    </tr>\n",
       "    <tr>\n",
       "      <th>2</th>\n",
       "      <td>W.A.S.P.</td>\n",
       "      <td>Scream Until You Like It</td>\n",
       "      <td>scream until you like it  \\r   \\r come on in! ...</td>\n",
       "    </tr>\n",
       "    <tr>\n",
       "      <th>3</th>\n",
       "      <td>Bob Dylan</td>\n",
       "      <td>It Hurts Me Too</td>\n",
       "      <td>so run here baby, put your little hands in min...</td>\n",
       "    </tr>\n",
       "    <tr>\n",
       "      <th>4</th>\n",
       "      <td>Depeche Mode</td>\n",
       "      <td>Heaven II</td>\n",
       "      <td>sometimes i slide away  \\r silently  \\r i slow...</td>\n",
       "    </tr>\n",
       "    <tr>\n",
       "      <th>5</th>\n",
       "      <td>Gary Valenciano</td>\n",
       "      <td>Could You Be Messiah</td>\n",
       "      <td>[verse 1]  \\r could you be healer  \\r to a hea...</td>\n",
       "    </tr>\n",
       "    <tr>\n",
       "      <th>6</th>\n",
       "      <td>Electric Light Orchestra</td>\n",
       "      <td>In Old England Town</td>\n",
       "      <td>down, down, you can see them all  \\r rising ga...</td>\n",
       "    </tr>\n",
       "  </tbody>\n",
       "</table>\n",
       "</div>"
      ],
      "text/plain": [
       "                     artist                      song  \\\n",
       "0                     Clash            Stop The World   \n",
       "1                 Marillion          The Great Escape   \n",
       "2                  W.A.S.P.  Scream Until You Like It   \n",
       "3                 Bob Dylan           It Hurts Me Too   \n",
       "4              Depeche Mode                 Heaven II   \n",
       "5           Gary Valenciano      Could You Be Messiah   \n",
       "6  Electric Light Orchestra       In Old England Town   \n",
       "\n",
       "                                                text  \n",
       "0  the panorama of the city is wrong  \\r in fact ...  \n",
       "1  heading for the great escape  \\r heading for t...  \n",
       "2  scream until you like it  \\r   \\r come on in! ...  \n",
       "3  so run here baby, put your little hands in min...  \n",
       "4  sometimes i slide away  \\r silently  \\r i slow...  \n",
       "5  [verse 1]  \\r could you be healer  \\r to a hea...  \n",
       "6  down, down, you can see them all  \\r rising ga...  "
      ]
     },
     "execution_count": 70,
     "metadata": {},
     "output_type": "execute_result"
    }
   ],
   "source": [
    "df.shape\n",
    "df.head(7)"
   ]
  },
  {
   "cell_type": "code",
   "execution_count": 47,
   "id": "dd122da5",
   "metadata": {},
   "outputs": [
    {
     "data": {
      "text/plain": [
       "'(Yea) This is my story, yeah, I\\'m from that Chi-town dirt  \\r\\nI went from being broke to sleeping in Versace shirts  \\r\\n(Yea) This is my story, money, cars, bad hoes  \\r\\nThis is my story eh-eh-eh-eh-eh-eh-eh-eh  \\r\\nAnd I\\'m, stickin\\', to it (Uh huh)  \\r\\nAnd I\\'m, stickin\\', to it (Uh huh)  \\r\\nAnd I\\'m, stickin\\', to it (Uh huh)  \\r\\nAnd I\\'m, stickin\\', to it (Uh huh)  \\r\\nAnd I\\'m, stickin\\', to it (Uh huh)  \\r\\nAnd I\\'m, stickin\\', to it (Uh huh)  \\r\\nAnd I\\'m, stickin\\', to it (Uh huh)  \\r\\nAnd I\\'m, stickin\\', to it (Uh huh)  \\r\\n  \\r\\nCame from humble beginnings now I\\'m cocky with my spending  \\r\\nThey say \"life is just a game\" and I thank God that I\\'m winning  \\r\\nModels roll my indo, I beat the pussy, Django  \\r\\nThem niggas talking money, I got more digits in my gate code  \\r\\nShe make a pole disappear like hocus pocus (Hocus pocus, pocus)  \\r\\nYou\\'re ain\\'t never gon\\' find another nigga this focused (Focused)  \\r\\nI got every block, every street corners sold up (Up)  \\r\\nWhatever club represent my city, throw it up (Up)  \\r\\nI own the game, coach slash player sho \\'nough  \\r\\nOkay, haters forfeited never showed up, yup  \\r\\n  \\r\\nThis is my story, yeah, I\\'m from that Chi-town dirt  \\r\\nI went from being broke to sleeping in Versace shirts  \\r\\nThis is my story, money, cars, bad hoes  \\r\\nThis is my story eh-eh-eh-eh-eh-eh-eh-eh  \\r\\nAnd I\\'m, stickin\\', to it (Uh huh)  \\r\\nAnd I\\'m, stickin\\', to it (Uh huh)  \\r\\nAnd I\\'m, stickin\\', to it (Uh huh)  \\r\\nAnd I\\'m, stickin\\', to it (Uh huh)  \\r\\n(Yea) And I\\'m, stickin\\', to it (Uh huh)  \\r\\nAnd I\\'m, stickin\\', to it (Uh huh)  \\r\\n(2 Chainz) And I\\'m, stickin\\', to it (Uh huh)  \\r\\nAnd I\\'m, stickin\\', to it  \\r\\n  \\r\\nVelcro, I\\'m sticking to it, hatin\\', I\\'ve been a victim to it  \\r\\nYour conversation is sanitation, ain\\'t no hesitation when I finna do it  \\r\\nI stick it in (Uh) switch it up and try to hit a friend (Uh)  \\r\\nLive it up and count my dividends, roll, like cinnamon  \\r\\nWhoa, big face Benjamin\\'s  \\r\\nAnd she looked at me like you ain\\'t nothin\\' but a star  \\r\\nI looked at her like this ain\\'t nothin\\' but a car  \\r\\nIf you ride with them you ain\\'t going that far  \\r\\nBut if you ride with me (Me)  \\r\\nCrib so big we can play hide-and-seek (Play hide-and-seek)  \\r\\nYou can confide to me, ride me like I ride the beat  \\r\\nPilot seat, I need a co-pilot (Tell \\'em), kiss a ass in both mouths (Tru)  \\r\\nYeah I\\'m talking both lips, what you know \\'bout boat trips?  \\r\\nDrop her ass at the Chocolate Factory (Chocolate Factory)  \\r\\n(Yeah) We did them 12 Play\\'s  \\r\\n(Yeah) And you know who you is girl,  \\r\\nWe been fuckin\\' since the 12th grade, goddamn (Goddamn)  \\r\\n  \\r\\nThis is my story, yeah I\\'m from that Chi-town dirt  \\r\\nI went from being broke to sleeping in Versace shirts  \\r\\nThis is my story, money, cars, bad hoes  \\r\\nThis is my story eh-eh-eh-eh-eh-eh-eh-eh  \\r\\nAnd I\\'m, stickin\\', to it (Uh huh)  \\r\\nAnd I\\'m, stickin\\', to it (Uh huh)  \\r\\nAnd I\\'m, stickin\\', to it (Uh huh)  \\r\\nAnd I\\'m, stickin\\', to it (Uh huh)  \\r\\nAnd I\\'m, stickin\\', to it (Uh huh)  \\r\\nAnd I\\'m, stickin\\', to it (Uh huh)  \\r\\nAnd I\\'m, stickin\\', to it (Uh huh)  \\r\\nAnd I\\'m, stickin\\', to it  \\r\\n  \\r\\nPull up to the club at about three (Uh huh)  \\r\\nI\\'m killin\\' it, guilty no plea (Uh huh)  \\r\\nI\\'m leaving out at 6 with a dime piece  \\r\\nBy 9 o\\'clock, we on round three  \\r\\nI speak of rain they say I\\'m crazy like they didn\\'t know  \\r\\nSee I\\'m not crazy but my talent, man, got bipolar  \\r\\nSay she\\'s a church girl but man she\\'s blowing holy smokes  \\r\\nShowed her the Jesus piece now she got the Holy Ghost  \\r\\nThey asked \\'em in a interview, \"Why do he love these girls?\"  \\r\\nThe only thing he had to say was, \"Motherfuck the world!\"  \\r\\n  \\r\\nThis is my story, yeah I\\'m from that Chi-town dirt  \\r\\nI went from being broke to sleeping in Versace shirts  \\r\\nThis is my story, money, cars, bad hoes  \\r\\nThis is my story eh-eh-eh-eh-eh-eh-eh-eh  \\r\\nAnd I\\'m, stickin\\', to it (Uh huh)  \\r\\nAnd I\\'m, stickin\\', to it (Uh huh)  \\r\\nAnd I\\'m, stickin\\', to it (Uh huh)  \\r\\nAnd I\\'m, stickin\\', to it (Uh huh)  \\r\\nAnd I\\'m, stickin\\', to it (Uh huh)  \\r\\nAnd I\\'m, stickin\\', to it (Uh huh)  \\r\\nAnd I\\'m, stickin\\', to it (Uh huh)  \\r\\nAnd I\\'m, stickin\\', to it\\r\\n\\r\\n'"
      ]
     },
     "execution_count": 47,
     "metadata": {},
     "output_type": "execute_result"
    }
   ],
   "source": [
    "df['text'][7]"
   ]
  },
  {
   "cell_type": "code",
   "execution_count": 71,
   "id": "6853fced",
   "metadata": {},
   "outputs": [
    {
     "data": {
      "text/plain": [
       "(5000, 3)"
      ]
     },
     "execution_count": 71,
     "metadata": {},
     "output_type": "execute_result"
    }
   ],
   "source": [
    "df.shape"
   ]
  },
  {
   "cell_type": "code",
   "execution_count": 48,
   "id": "40d6ad75",
   "metadata": {},
   "outputs": [
    {
     "data": {
      "text/plain": [
       "(5000, 3)"
      ]
     },
     "execution_count": 48,
     "metadata": {},
     "output_type": "execute_result"
    }
   ],
   "source": [
    "df.shape"
   ]
  },
  {
   "cell_type": "markdown",
   "id": "55f02e12",
   "metadata": {},
   "source": [
    "Text Cleaning / Text Processing"
   ]
  },
  {
   "cell_type": "code",
   "execution_count": 49,
   "id": "6378b857",
   "metadata": {},
   "outputs": [],
   "source": [
    "df['text'] = df['text'].str.lower().replace(r'^\\w\\s',' ').replace(r'\\n',' ',regex=True) #regex=True parameter indicates that the pattern should be treated as a regular expression."
   ]
  },
  {
   "cell_type": "code",
   "execution_count": 50,
   "id": "39e662db",
   "metadata": {},
   "outputs": [
    {
     "data": {
      "text/plain": [
       "0       the panorama of the city is wrong  \\r in fact ...\n",
       "1       heading for the great escape  \\r heading for t...\n",
       "2       scream until you like it  \\r   \\r come on in! ...\n",
       "3       so run here baby, put your little hands in min...\n",
       "4       sometimes i slide away  \\r silently  \\r i slow...\n",
       "                              ...                        \n",
       "4995    here she come down, say \"money, money\"  \\r wel...\n",
       "4996    when i was a little girl, i had a rag-doll  \\r...\n",
       "4997    the streets were deserted though the police we...\n",
       "4998    i just thought you'd like to know  \\r since yo...\n",
       "4999    [intro]  \\r anyone whose lived around these pa...\n",
       "Name: text, Length: 5000, dtype: object"
      ]
     },
     "execution_count": 50,
     "metadata": {},
     "output_type": "execute_result"
    }
   ],
   "source": [
    "df['text']\n"
   ]
  },
  {
   "cell_type": "code",
   "execution_count": 51,
   "id": "179e9bb3",
   "metadata": {},
   "outputs": [
    {
     "name": "stderr",
     "output_type": "stream",
     "text": [
      "[nltk_data] Downloading package punkt to\n",
      "[nltk_data]     C:\\Users\\DELL\\AppData\\Roaming\\nltk_data...\n",
      "[nltk_data]   Package punkt is already up-to-date!\n"
     ]
    }
   ],
   "source": [
    "import nltk\n",
    "nltk.download('punkt')\n",
    "from nltk.stem.porter import PorterStemmer #nltk- natural language processing and stemmer is used to convert run running runs in same word as run"
   ]
  },
  {
   "cell_type": "code",
   "execution_count": 52,
   "id": "cb66af19",
   "metadata": {},
   "outputs": [],
   "source": [
    "stemmer = PorterStemmer()"
   ]
  },
  {
   "cell_type": "code",
   "execution_count": 53,
   "id": "4aa765ec",
   "metadata": {},
   "outputs": [],
   "source": [
    "def token(txt):\n",
    "    token = nltk.word_tokenize(txt)\n",
    "    a = [stemmer.stem(w) for w in token]\n",
    "    return \" \".join(a)"
   ]
  },
  {
   "cell_type": "code",
   "execution_count": 54,
   "id": "4b41acc7",
   "metadata": {},
   "outputs": [
    {
     "data": {
      "text/plain": [
       "'you are beauti , beauti'"
      ]
     },
     "execution_count": 54,
     "metadata": {},
     "output_type": "execute_result"
    }
   ],
   "source": [
    "token(\"you are beautiful, beauty\")"
   ]
  },
  {
   "cell_type": "code",
   "execution_count": 55,
   "id": "ef24bf4a",
   "metadata": {},
   "outputs": [
    {
     "data": {
      "text/plain": [
       "0       the panorama of the citi is wrong in fact the ...\n",
       "1       head for the great escap head for the rave hea...\n",
       "2       scream until you like it come on in ! ha ha ha...\n",
       "3       so run here babi , put your littl hand in mine...\n",
       "4       sometim i slide away silent i slowli lose myse...\n",
       "                              ...                        \n",
       "4995    here she come down , say `` money , money '' w...\n",
       "4996    when i wa a littl girl , i had a rag-dol the o...\n",
       "4997    the street were desert though the polic were a...\n",
       "4998    i just thought you 'd like to know sinc you 'd...\n",
       "4999    [ intro ] anyon whose live around these part ,...\n",
       "Name: text, Length: 5000, dtype: object"
      ]
     },
     "execution_count": 55,
     "metadata": {},
     "output_type": "execute_result"
    }
   ],
   "source": [
    "df['text'].apply(lambda x : token(x))"
   ]
  },
  {
   "cell_type": "code",
   "execution_count": 56,
   "id": "919bcc48",
   "metadata": {},
   "outputs": [],
   "source": [
    "from sklearn.feature_extraction.text import TfidfVectorizer\n",
    "from sklearn.metrics.pairwise import  cosine_similarity"
   ]
  },
  {
   "cell_type": "code",
   "execution_count": 57,
   "id": "e7ec84a4",
   "metadata": {},
   "outputs": [],
   "source": [
    "tfid = TfidfVectorizer(analyzer = 'word', stop_words='english')#convert text into vector"
   ]
  },
  {
   "cell_type": "code",
   "execution_count": 58,
   "id": "acaf693e",
   "metadata": {},
   "outputs": [
    {
     "data": {
      "text/plain": [
       "<5000x23466 sparse matrix of type '<class 'numpy.float64'>'\n",
       "\twith 266177 stored elements in Compressed Sparse Row format>"
      ]
     },
     "execution_count": 58,
     "metadata": {},
     "output_type": "execute_result"
    }
   ],
   "source": [
    "tfid.fit_transform(df['text'])"
   ]
  },
  {
   "cell_type": "code",
   "execution_count": 59,
   "id": "b32436c2",
   "metadata": {},
   "outputs": [],
   "source": [
    "matrix = tfid.fit_transform(df['text'])\n"
   ]
  },
  {
   "cell_type": "code",
   "execution_count": 60,
   "id": "8d506216",
   "metadata": {},
   "outputs": [],
   "source": [
    "similar = cosine_similarity(matrix)"
   ]
  },
  {
   "cell_type": "code",
   "execution_count": 61,
   "id": "32a3c743",
   "metadata": {},
   "outputs": [
    {
     "data": {
      "text/plain": [
       "array([1.        , 0.03072498, 0.02379157, ..., 0.02788485, 0.00184366,\n",
       "       0.00343688])"
      ]
     },
     "execution_count": 61,
     "metadata": {},
     "output_type": "execute_result"
    }
   ],
   "source": [
    "similar[0]"
   ]
  },
  {
   "cell_type": "code",
   "execution_count": 63,
   "id": "55f03cb5",
   "metadata": {},
   "outputs": [
    {
     "data": {
      "text/plain": [
       "4"
      ]
     },
     "execution_count": 63,
     "metadata": {},
     "output_type": "execute_result"
    }
   ],
   "source": [
    "df[df['song'] == 'Heaven II'].index[0]"
   ]
  },
  {
   "cell_type": "markdown",
   "id": "4932c53c",
   "metadata": {},
   "source": [
    "Recomender Function"
   ]
  },
  {
   "cell_type": "code",
   "execution_count": null,
   "id": "1e509718",
   "metadata": {},
   "outputs": [],
   "source": [
    "def recommender(song_name):\n",
    "    idx = df[df['song'] == song_name].index[0]\n",
    "    #calculating the distance\n",
    "    distance = sorted(list(enumerate(similar[idx])),reverse= True ,key=lambda x:x[1])\n",
    "    song = []\n",
    "    for s_id in distance[1:5]:\n",
    "        song.append(df.iloc[s_id[0]].song)\n",
    "    return song"
   ]
  },
  {
   "cell_type": "code",
   "execution_count": 64,
   "id": "0a78db15",
   "metadata": {},
   "outputs": [
    {
     "data": {
      "text/plain": [
       "['Joy To The World', 'Our Love', 'Heaven Bound', \"Heaven's What I Feel\"]"
      ]
     },
     "execution_count": 64,
     "metadata": {},
     "output_type": "execute_result"
    }
   ],
   "source": [
    "recommender('Heaven II')"
   ]
  },
  {
   "cell_type": "code",
   "execution_count": 65,
   "id": "ecbc93f5",
   "metadata": {},
   "outputs": [],
   "source": [
    "import pickle"
   ]
  },
  {
   "cell_type": "code",
   "execution_count": 66,
   "id": "76bdd2e1",
   "metadata": {},
   "outputs": [],
   "source": [
    "pickle.dump(similar,open(\"similarity\",\"wb\"))"
   ]
  },
  {
   "cell_type": "code",
   "execution_count": 67,
   "id": "dc9df257",
   "metadata": {},
   "outputs": [],
   "source": [
    "pickle.dump(df,open(\"df\",\"wb\"))"
   ]
  },
  {
   "cell_type": "code",
   "execution_count": null,
   "id": "a382fd5c",
   "metadata": {},
   "outputs": [],
   "source": []
  }
 ],
 "metadata": {
  "kernelspec": {
   "display_name": "Python 3 (ipykernel)",
   "language": "python",
   "name": "python3"
  },
  "language_info": {
   "codemirror_mode": {
    "name": "ipython",
    "version": 3
   },
   "file_extension": ".py",
   "mimetype": "text/x-python",
   "name": "python",
   "nbconvert_exporter": "python",
   "pygments_lexer": "ipython3",
   "version": "3.10.9"
  }
 },
 "nbformat": 4,
 "nbformat_minor": 5
}
